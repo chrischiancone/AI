{
  "nbformat": 4,
  "nbformat_minor": 0,
  "metadata": {
    "colab": {
      "provenance": [],
      "include_colab_link": true
    },
    "kernelspec": {
      "name": "python3",
      "display_name": "Python 3"
    },
    "language_info": {
      "name": "python"
    }
  },
  "cells": [
    {
      "cell_type": "markdown",
      "metadata": {
        "id": "view-in-github",
        "colab_type": "text"
      },
      "source": [
        "<a href=\"https://colab.research.google.com/github/chrischiancone/AI/blob/main/Cold_Call_Assist.ipynb\" target=\"_parent\"><img src=\"https://colab.research.google.com/assets/colab-badge.svg\" alt=\"Open In Colab\"/></a>"
      ]
    },
    {
      "cell_type": "code",
      "execution_count": 4,
      "metadata": {
        "id": "uEZQ56oWm2gh",
        "colab": {
          "base_uri": "https://localhost:8080/"
        },
        "outputId": "981838cb-cea3-4ef1-982e-59d82d18f193"
      },
      "outputs": [
        {
          "output_type": "stream",
          "name": "stdout",
          "text": [
            "Requirement already satisfied: pandas in /usr/local/lib/python3.10/dist-packages (2.0.3)\n",
            "Requirement already satisfied: python-dateutil>=2.8.2 in /usr/local/lib/python3.10/dist-packages (from pandas) (2.8.2)\n",
            "Requirement already satisfied: pytz>=2020.1 in /usr/local/lib/python3.10/dist-packages (from pandas) (2023.4)\n",
            "Requirement already satisfied: tzdata>=2022.1 in /usr/local/lib/python3.10/dist-packages (from pandas) (2024.1)\n",
            "Requirement already satisfied: numpy>=1.21.0 in /usr/local/lib/python3.10/dist-packages (from pandas) (1.25.2)\n",
            "Requirement already satisfied: six>=1.5 in /usr/local/lib/python3.10/dist-packages (from python-dateutil>=2.8.2->pandas) (1.16.0)\n",
            "Requirement already satisfied: requests in /usr/local/lib/python3.10/dist-packages (2.31.0)\n",
            "Requirement already satisfied: charset-normalizer<4,>=2 in /usr/local/lib/python3.10/dist-packages (from requests) (3.3.2)\n",
            "Requirement already satisfied: idna<4,>=2.5 in /usr/local/lib/python3.10/dist-packages (from requests) (3.7)\n",
            "Requirement already satisfied: urllib3<3,>=1.21.1 in /usr/local/lib/python3.10/dist-packages (from requests) (2.0.7)\n",
            "Requirement already satisfied: certifi>=2017.4.17 in /usr/local/lib/python3.10/dist-packages (from requests) (2024.2.2)\n"
          ]
        }
      ],
      "source": [
        "!pip install pandas\n",
        "!pip install requests"
      ]
    },
    {
      "cell_type": "code",
      "source": [
        "import requests\n",
        "import pandas as pd\n",
        "\n",
        "# Define your API key and headers for authentication\n",
        "api_key = 'sk-khkx1j9clzm2otroaucxvjhfiqek3dmtu6bnu65vlk8gaksyj25h5neivu8slvg269'\n",
        "headers = {\n",
        "    \"authorization\": api_key,\n",
        "    \"Content-Type\": \"application/json\"\n",
        "}\n",
        "\n",
        "# Load the call list from a CSV file\n",
        "df = pd.read_csv('/content/drive/MyDrive/AI/Numbers.csv')\n",
        "\n",
        "\n",
        "# Define the payload for the batch call\n",
        "batch_payload = {\n",
        "    \"base_prompt\": \"\"\"You're calling to speak with {{name}} about thier outstanding cour fines.\n",
        "                  Tell them that it is important to pay thier fines to avoid recovery actions.\n",
        "                  You're calling from The City of Carrollton. If the user wants to perform payment, transfer to {{default}}.\n",
        "                   \"\"\",\n",
        "    \"call_data\": [\n",
        "        {\n",
        "            \"phone_number\": str(row['Phone Number']),\n",
        "            \"name\": row['Name'],\n",
        "        } for index, row in df.iterrows()\n",
        "    ],\n",
        "    #define transfer phone numbers\n",
        "    \"transfer_list\": {\n",
        "        \"default\": \"19728327095\",\n",
        "        \"sales\": \"1555552323\"\n",
        "    },\n",
        "    #Define tough to pronounce words\n",
        "    \"pronunciation_guide\": [\n",
        "      {\n",
        "        \"word\": \"realty\",\n",
        "        \"pronunciation\": \"real-tea\",\n",
        "      },\n",
        "      {\n",
        "        \"word\": \"Estate\",\n",
        "        \"pronunciation\": \"Es-state\",\n",
        "      }\n",
        "    ],\n",
        "    \"record\": True,\n",
        "    \"voicemail_message\": \"Hello, this is Jim calling from the City of Carrollton. I'm reaching out because we've noticed there's an outstanding court payment associated with your account. We'd like to help you resolve this as soon as possible. If you'd like to speak with a court administrator, please give us a call back at your earliest convenience. You can also say 'transfer' during the call to be connected directly to a court representative. Thank you, and have a great day.\",\n",
        "    \"model\": \"enhanced\",\n",
        "    \"wait_for_greeting\": False,\n",
        "    \"first_sentence\": \"\"\"Hello,,, I'm Jim,,, calling from the City of Carrollton. We've noticed that there's an outstanding\n",
        "                         court payment on your account. Would you like to speak with a court administrator to resolve this today?\n",
        "                         At any time, you can say 'transfer' to connect with a court representative.\"\"\",\n",
        "    \"voice\": \"matt\",            #this changed on Bland AI's side, so I updated here - different from video\n",
        "    \"reduce_latency\": True,\n",
        "    \"temperature\": 0.7,\n",
        "    \"test_mode\": False,\n",
        "    \"campaign_id\": \"Courts Recovery\",\n",
        "    \"label\": \"Courts Recovery\"\n",
        "}\n",
        "\n",
        "# Sending the batch of calls\n",
        "send_batch_url = \"https://api.bland.ai/v1/batches\"\n",
        "response = requests.post(send_batch_url, json=batch_payload, headers=headers)\n",
        "batch_response = response.json()\n",
        "\n",
        "if batch_response.get('message') == 'success':\n",
        "    print(\"Batch sent successfully\")\n",
        "    batch_id = batch_response.get('batch_id')\n",
        "else:\n",
        "    print(\"Failed to send batch\")\n",
        "    print(response.text)\n",
        "    # If the batch fails to send, halt further execution\n",
        "    raise Exception(\"Batch sending failed, halting execution.\")"
      ],
      "metadata": {
        "id": "0KAXPpdgnMJW",
        "colab": {
          "base_uri": "https://localhost:8080/"
        },
        "outputId": "06edcc9b-178d-4edc-e83a-5915dde8b902"
      },
      "execution_count": 24,
      "outputs": [
        {
          "output_type": "stream",
          "name": "stdout",
          "text": [
            "Batch sent successfully\n"
          ]
        }
      ]
    },
    {
      "cell_type": "code",
      "source": [
        "# Analyze the batch calls and give a status of each\n",
        "analyze_url = f\"https://api.bland.ai/v1/batches/{batch_id}/analyze\"\n",
        "analyze_payload = {\n",
        "    \"goal\": \"Is customer interested in paying thier court fines\",\n",
        "    \"questions\": [\n",
        "        [\"Who answered the call?\", \"human or voicemail\"],\n",
        "        [\"Was the customer interested in paying?\", \"yes or no\"],\n",
        "        [\"Did they ask to be transferred?\", \"yes or no\"],\n",
        "        [\"Was the customer interested in payment plan?\", \"string\"]\n",
        "    ]\n",
        "}\n",
        "\n",
        "analyze_response = requests.post(analyze_url, json=analyze_payload, headers=headers)\n",
        "analyze_result = analyze_response.json()\n",
        "\n",
        "if analyze_result['status'] == 'success':\n",
        "    print(\"Batch analyzed successfully\")\n",
        "    answers = analyze_result['answers']\n",
        "    # Compile analysis results into a report\n",
        "    report_data = []\n",
        "    for call_id, analysis in answers.items():\n",
        "        report_row = {\n",
        "            \"Call ID\": call_id,\n",
        "            \"Answered By\": analysis[0] if analysis[0] is not None else \"N/A\",\n",
        "            \"Interested in Paying\": analysis[1] if analysis[1] is not None else \"N/A\",\n",
        "            \"Ask to be transferred\": analysis[2] if analysis[2] is not None else \"N/A\",\n",
        "            \"Interested in Payment Plan\": analysis[3] if analysis[3] is not None else \"N/A\"\n",
        "        }\n",
        "        report_data.append(report_row)\n",
        "\n",
        "    # Convert report data into a DataFrame\n",
        "    report_df = pd.DataFrame(report_data)\n",
        "\n",
        "    # Use to_string for better alignment in the Colab output window, index=False removes the DataFrame index\n",
        "    print(report_df.to_string(index=False))\n",
        "        # Optionally save to CSV\n",
        "    #report_df.to_csv('call_outcomes_report.csv', index=False)\n",
        "else:\n",
        "    print(\"Failed to analyze batch\")\n",
        "    print(analyze_response.text)"
      ],
      "metadata": {
        "id": "85Dt7tOhnjsZ",
        "colab": {
          "base_uri": "https://localhost:8080/"
        },
        "outputId": "a7560a63-14d3-438f-ddf2-1dd3d56324eb"
      },
      "execution_count": 25,
      "outputs": [
        {
          "output_type": "stream",
          "name": "stdout",
          "text": [
            "Batch analyzed successfully\n",
            "                             Call ID Answered By Interested in Paying Ask to be transferred Interested in Payment Plan\n",
            "8487da4a-316c-4951-8f1d-548b43b2f6c5         N/A                  N/A                   N/A                        N/A\n",
            "6f1487db-39c9-4637-bd0c-86ad13eec877       human                  yes                   yes               payment plan\n"
          ]
        }
      ]
    },
    {
      "cell_type": "code",
      "source": [
        "# Use stop_call(call_id) function where necessary to stop calls\n",
        "url = \"https://api.bland.ai/v1/calls/{call_id}/stop\""
      ],
      "metadata": {
        "id": "Er4YCCdZoBsq"
      },
      "execution_count": 28,
      "outputs": []
    },
    {
      "cell_type": "code",
      "source": [
        "url = \"https://api.bland.ai/v1/calls/8487da4a-316c-4951-8f1d-548b43b2f6c5/stop\"\n"
      ],
      "metadata": {
        "id": "70_jFFUK7UFT"
      },
      "execution_count": 29,
      "outputs": []
    }
  ]
}